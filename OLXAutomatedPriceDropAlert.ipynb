{
 "cells": [
  {
   "cell_type": "code",
   "execution_count": 1,
   "id": "3ca105da-1218-4f7b-a367-e25a2008cf5d",
   "metadata": {},
   "outputs": [],
   "source": [
    "# import libraries \n",
    "\n",
    "from bs4 import BeautifulSoup\n",
    "import requests\n",
    "import time\n",
    "import datetime\n",
    "\n",
    "import smtplib"
   ]
  },
  {
   "cell_type": "code",
   "execution_count": 97,
   "id": "35a9e9b8-898f-4324-8610-1457b4a65ba3",
   "metadata": {},
   "outputs": [
    {
     "name": "stdout",
     "output_type": "stream",
     "text": [
      "Mahindra Thar (2023)\n",
      "18,75,000\n"
     ]
    },
    {
     "data": {
      "text/plain": [
       "str"
      ]
     },
     "execution_count": 97,
     "metadata": {},
     "output_type": "execute_result"
    }
   ],
   "source": [
    "# Connect to Website and pull in data\n",
    "\n",
    "URL = 'https://www.olx.in/item/mahindra-thar-lx-hard-top-petrol-mt-4wd-2023-diesel-iid-1763796363'\n",
    "\n",
    "headers = {\"User-Agent\": \"Mozilla/5.0 (Macintosh; Intel Mac OS X 10_15_7) AppleWebKit/537.36 (KHTML, like Gecko) Chrome/122.0.0.0 Safari/537.36\", \"Accept-Encoding\":\"gzip, deflate\"}\n",
    "\n",
    "page = requests.get(URL, headers=headers)\n",
    "\n",
    "soup1 = BeautifulSoup(page.content, \"html.parser\")\n",
    "\n",
    "# print(soup1)\n",
    "\n",
    "soup2 = BeautifulSoup(soup1.prettify(), \"html.parser\")\n",
    "\n",
    "\n",
    "name = soup2.find(\"h1\").get_text().strip().title()\n",
    "\n",
    "\n",
    "price = soup2.find(\"div\", attrs ={\"class\": \"_1uqlc\",\"data-aut-id\": 'itemPrice'}).get_text().strip()[2:]\n",
    "\n",
    "\n",
    "print(name)\n",
    "print(price)\n",
    "type(price)"
   ]
  },
  {
   "cell_type": "code",
   "execution_count": 98,
   "id": "8f143add-37ed-4169-844b-3e7d25d8351f",
   "metadata": {},
   "outputs": [
    {
     "name": "stdout",
     "output_type": "stream",
     "text": [
      "2024-03-17\n"
     ]
    }
   ],
   "source": [
    "# Create a Timestamp for your output to track when data was collected\n",
    "\n",
    "import datetime\n",
    "\n",
    "today = datetime.date.today()\n",
    "\n",
    "print(today)"
   ]
  },
  {
   "cell_type": "code",
   "execution_count": 99,
   "id": "e7661bde-e1de-4187-8980-37762d3574a3",
   "metadata": {},
   "outputs": [
    {
     "name": "stdout",
     "output_type": "stream",
     "text": [
      "['Mahindra Thar (2023)', '18,75,000', 'https://www.olx.in/item/mahindra-thar-lx-hard-top-petrol-mt-4wd-2023-diesel-iid-1763796363', datetime.date(2024, 3, 17)]\n"
     ]
    }
   ],
   "source": [
    "import csv\n",
    "\n",
    "header = ['Name','Price','URL', 'Today']\n",
    "data = [name, price, URL, today]\n",
    "\n",
    "print(data)"
   ]
  },
  {
   "cell_type": "code",
   "execution_count": 103,
   "id": "c1cc4961-58ba-4015-9fe9-a0a79b78a63e",
   "metadata": {},
   "outputs": [
    {
     "name": "stdout",
     "output_type": "stream",
     "text": [
      "file processed\n"
     ]
    }
   ],
   "source": [
    "import pandas as pd\n",
    "\n",
    "with open('/Users/abhishekmishra/Documents/Projects/WebScraping/OLXWebScraperDataset.csv', 'a+', newline='', encoding='UTF8') as f:\n",
    "        writer = csv.writer(f)\n",
    "        writer.writerow(header)\n",
    "        writer.writerow(data)\n",
    "\n",
    "print(\"file processed\")\n"
   ]
  },
  {
   "cell_type": "code",
   "execution_count": 108,
   "id": "dd0e7f96-b8ff-42bc-94f8-4e5e7c3208c6",
   "metadata": {},
   "outputs": [],
   "source": [
    "# Sending an email to myself when price reduces\n",
    "\n",
    "def send_mail():\n",
    "    server = smtplib.SMTP_SSL('smtp.gmail.com',465)\n",
    "    server.ehlo()\n",
    "    #server.starttls()\n",
    "    server.ehlo()\n",
    "    server.login('mishraabhi0890@gmail.com','xxxxxxxxxxxxxxxx')\n",
    "    \n",
    "    subject = \"The Car you want is below the price you can afford\"\n",
    "    body = \"GO check out this link now!: https://www.olx.in/item/mahindra-thar-lx-hard-top-petrol-mt-4wd-2023-diesel-iid-1763796363\"   \n",
    "    msg = f\"Subject: {subject}\\n\\n{body}\"\n",
    "    \n",
    "    server.sendmail(\n",
    "        'mishraabhi0890@gmail.com', 'mishraabhi0890@gmail.com',\n",
    "        msg\n",
    "     \n",
    "    )\n",
    "\n",
    "send_mail()"
   ]
  },
  {
   "cell_type": "code",
   "execution_count": null,
   "id": "95d658ea-13da-4e5f-8b34-cf7ae24a88ff",
   "metadata": {},
   "outputs": [],
   "source": []
  }
 ],
 "metadata": {
  "kernelspec": {
   "display_name": "Python 3 (ipykernel)",
   "language": "python",
   "name": "python3"
  },
  "language_info": {
   "codemirror_mode": {
    "name": "ipython",
    "version": 3
   },
   "file_extension": ".py",
   "mimetype": "text/x-python",
   "name": "python",
   "nbconvert_exporter": "python",
   "pygments_lexer": "ipython3",
   "version": "3.11.7"
  }
 },
 "nbformat": 4,
 "nbformat_minor": 5
}
